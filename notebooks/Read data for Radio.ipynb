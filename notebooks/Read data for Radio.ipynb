{
 "cells": [
  {
   "cell_type": "code",
   "execution_count": 71,
   "metadata": {},
   "outputs": [],
   "source": [
    "import io\n",
    "import csv\n",
    "import dateutil.parser as parser\n",
    "from collections import defaultdict\n",
    "f = io.open('VMStats.csv')\n",
    "myCsvReader = csv.DictReader(f)\n",
    "limit = 10000000\n",
    "i = 1\n",
    "myset = {}\n",
    "user = \"Pool-NOAVFC171\"\n",
    "X_mem = {}\n",
    "for row in myCsvReader:\n",
    "    if i >= limit:\n",
    "        break\n",
    "    i = i + 1\n",
    "    \n",
    "    if row['VM Name'] == user:\n",
    "        \n",
    "        #print (l)\n",
    "        #print (parser.parse(l['Date']).timestamp())\n",
    "        X_mem [float(parser.parse(row['Date']).timestamp())] = float(row['VM Memory Usage(MB)'])\n",
    "        #mydatetime = parser.parse(row['Date'])\n",
    "        #print(mydatetime.minute)\n",
    "    \n",
    "#print(X_mem)    "
   ]
  },
  {
   "cell_type": "code",
   "execution_count": 78,
   "metadata": {},
   "outputs": [
    {
     "data": {
      "text/plain": [
       "0.39694656488549618"
      ]
     },
     "execution_count": 78,
     "metadata": {},
     "output_type": "execute_result"
    }
   ],
   "source": [
    "from sklearn.tree import DecisionTreeClassifier\n",
    "from sklearn.cross_validation import train_test_split\n",
    "from sklearn import metrics\n",
    "\n",
    "X = []\n",
    "y = []\n",
    "skipLimit = 1000\n",
    "skipCounter = 1\n",
    "for k in X_mem:\n",
    "    X.append([k])\n",
    "    y.append(X_mem[k])\n",
    "    \n",
    "Xtrain, Xtest, ytrain, ytest = train_test_split(X, y, random_state=0)\n",
    "clf = DecisionTreeClassifier(max_depth=11)\n",
    "clf.fit(Xtrain, ytrain)\n",
    "ypred = clf.predict(Xtest)\n",
    "metrics.accuracy_score(ypred, ytest)"
   ]
  },
  {
   "cell_type": "code",
   "execution_count": 79,
   "metadata": {},
   "outputs": [
    {
     "data": {
      "text/plain": [
       "<Container object of 3 artists>"
      ]
     },
     "execution_count": 79,
     "metadata": {},
     "output_type": "execute_result"
    },
    {
     "data": {
      "image/png": "[encoded data removed]",
      "text/plain": [
       "<matplotlib.figure.Figure at 0x24062417358>"
      ]
     },
     "metadata": {},
     "output_type": "display_data"
    }
   ],
   "source": [
    "%matplotlib inline\n",
    "import numpy as np\n",
    "import matplotlib.pyplot as plt\n",
    "from scipy import stats\n",
    "\n",
    "# use seaborn plotting defaults\n",
    "import seaborn as sns; sns.set()\n",
    "from fig_code import visualize_tree, plot_tree_interactive\n",
    "\n",
    "plt.errorbar(X_mem.keys(), X_mem.values(), 0.3, fmt='o')"
   ]
  },
  {
   "cell_type": "code",
   "execution_count": null,
   "metadata": {
    "collapsed": true
   },
   "outputs": [],
   "source": []
  }
 ],
 "metadata": {
  "kernelspec": {
   "display_name": "Python 3",
   "language": "python",
   "name": "python3"
  },
  "language_info": {
   "codemirror_mode": {
    "name": "ipython",
    "version": 3
   },
   "file_extension": ".py",
   "mimetype": "text/x-python",
   "name": "python",
   "nbconvert_exporter": "python",
   "pygments_lexer": "ipython3",
   "version": "3.6.3"
  }
 },
 "nbformat": 4,
 "nbformat_minor": 2
}
