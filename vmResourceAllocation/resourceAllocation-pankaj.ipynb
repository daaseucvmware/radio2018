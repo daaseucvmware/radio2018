{
 "cells": [
  {
   "cell_type": "markdown",
   "metadata": {},
   "source": [
    "## My ML model\n",
    "\n",
    "Frame\n",
    "Acquire\n",
    "Refine\n",
    "Transform\n",
    "Explore\n",
    "Model\n",
    "Insight\n",
    "Build\n",
    "Deploy"
   ]
  },
  {
   "cell_type": "markdown",
   "metadata": {},
   "source": [
    "## Frame"
   ]
  },
  {
   "cell_type": "code",
   "execution_count": 74,
   "metadata": {
    "collapsed": true
   },
   "outputs": [],
   "source": [
    "# Load the libraries\n",
    "\n",
    "# For data ingestion and wrangling\n",
    "import numpy as np\n",
    "import pandas as pd\n",
    "\n",
    "# For data visualization\n",
    "import matplotlib.pyplot as plt\n",
    "\n",
    "#For machine learning\n",
    "from sklearn import tree\n",
    "\n",
    "# For deployment(for serilisation and API)\n",
    "from sklearn.externals import joblib\n"
   ]
  },
  {
   "cell_type": "code",
   "execution_count": 75,
   "metadata": {
    "collapsed": true
   },
   "outputs": [],
   "source": [
    "%matplotlib inline"
   ]
  },
  {
   "cell_type": "markdown",
   "metadata": {},
   "source": [
    "## Acquire"
   ]
  },
  {
   "cell_type": "code",
   "execution_count": 76,
   "metadata": {
    "collapsed": true
   },
   "outputs": [],
   "source": [
    "#Load the data\n",
    "df=pd.read_csv(\"data/historical_usage_10.csv\")"
   ]
  },
  {
   "cell_type": "markdown",
   "metadata": {},
   "source": []
  },
  {
   "cell_type": "code",
   "execution_count": 77,
   "metadata": {},
   "outputs": [
    {
     "data": {
      "text/html": [
       "<div>\n",
       "<style>\n",
       "    .dataframe thead tr:only-child th {\n",
       "        text-align: right;\n",
       "    }\n",
       "\n",
       "    .dataframe thead th {\n",
       "        text-align: left;\n",
       "    }\n",
       "\n",
       "    .dataframe tbody tr th {\n",
       "        vertical-align: top;\n",
       "    }\n",
       "</style>\n",
       "<table border=\"1\" class=\"dataframe\">\n",
       "  <thead>\n",
       "    <tr style=\"text-align: right;\">\n",
       "      <th></th>\n",
       "      <th>cpuUsage</th>\n",
       "      <th>memoryUsage</th>\n",
       "      <th>userName</th>\n",
       "      <th>poolName</th>\n",
       "      <th>dayOfTheWeek</th>\n",
       "      <th>hourOfTheDay</th>\n",
       "    </tr>\n",
       "  </thead>\n",
       "  <tbody>\n",
       "    <tr>\n",
       "      <th>0</th>\n",
       "      <td>648</td>\n",
       "      <td>1410</td>\n",
       "      <td>Balrog</td>\n",
       "      <td>IndiaMarketing</td>\n",
       "      <td>Monday</td>\n",
       "      <td>16</td>\n",
       "    </tr>\n",
       "    <tr>\n",
       "      <th>1</th>\n",
       "      <td>1531</td>\n",
       "      <td>623</td>\n",
       "      <td>Gandalf</td>\n",
       "      <td>APACPreSales</td>\n",
       "      <td>Thursday</td>\n",
       "      <td>4</td>\n",
       "    </tr>\n",
       "    <tr>\n",
       "      <th>2</th>\n",
       "      <td>1687</td>\n",
       "      <td>1936</td>\n",
       "      <td>Frodo</td>\n",
       "      <td>IndiaMarketing</td>\n",
       "      <td>Tuesday</td>\n",
       "      <td>10</td>\n",
       "    </tr>\n",
       "    <tr>\n",
       "      <th>3</th>\n",
       "      <td>1731</td>\n",
       "      <td>1152</td>\n",
       "      <td>Samwise</td>\n",
       "      <td>APACPreSales</td>\n",
       "      <td>Wednesday</td>\n",
       "      <td>14</td>\n",
       "    </tr>\n",
       "    <tr>\n",
       "      <th>4</th>\n",
       "      <td>863</td>\n",
       "      <td>1859</td>\n",
       "      <td>Saruman</td>\n",
       "      <td>IndiaMarketing</td>\n",
       "      <td>Monday</td>\n",
       "      <td>6</td>\n",
       "    </tr>\n",
       "  </tbody>\n",
       "</table>\n",
       "</div>"
      ],
      "text/plain": [
       "   cpuUsage  memoryUsage userName        poolName dayOfTheWeek  hourOfTheDay\n",
       "0       648         1410   Balrog  IndiaMarketing       Monday            16\n",
       "1      1531          623  Gandalf    APACPreSales     Thursday             4\n",
       "2      1687         1936    Frodo  IndiaMarketing      Tuesday            10\n",
       "3      1731         1152  Samwise    APACPreSales    Wednesday            14\n",
       "4       863         1859  Saruman  IndiaMarketing       Monday             6"
      ]
     },
     "execution_count": 77,
     "metadata": {},
     "output_type": "execute_result"
    }
   ],
   "source": [
    "df.head()"
   ]
  },
  {
   "cell_type": "code",
   "execution_count": 78,
   "metadata": {},
   "outputs": [
    {
     "data": {
      "text/plain": [
       "(9, 6)"
      ]
     },
     "execution_count": 78,
     "metadata": {},
     "output_type": "execute_result"
    }
   ],
   "source": [
    "df.shape"
   ]
  },
  {
   "cell_type": "code",
   "execution_count": 86,
   "metadata": {},
   "outputs": [
    {
     "data": {
      "text/html": [
       "<div>\n",
       "<style>\n",
       "    .dataframe thead tr:only-child th {\n",
       "        text-align: right;\n",
       "    }\n",
       "\n",
       "    .dataframe thead th {\n",
       "        text-align: left;\n",
       "    }\n",
       "\n",
       "    .dataframe tbody tr th {\n",
       "        vertical-align: top;\n",
       "    }\n",
       "</style>\n",
       "<table border=\"1\" class=\"dataframe\">\n",
       "  <thead>\n",
       "    <tr style=\"text-align: right;\">\n",
       "      <th></th>\n",
       "      <th>cpuUsage</th>\n",
       "      <th>memoryUsage</th>\n",
       "      <th>hourOfTheDay</th>\n",
       "    </tr>\n",
       "  </thead>\n",
       "  <tbody>\n",
       "    <tr>\n",
       "      <th>count</th>\n",
       "      <td>9.000000</td>\n",
       "      <td>9.000000</td>\n",
       "      <td>9.000000</td>\n",
       "    </tr>\n",
       "    <tr>\n",
       "      <th>mean</th>\n",
       "      <td>1833.222222</td>\n",
       "      <td>1353.111111</td>\n",
       "      <td>10.000000</td>\n",
       "    </tr>\n",
       "    <tr>\n",
       "      <th>std</th>\n",
       "      <td>791.592347</td>\n",
       "      <td>493.353688</td>\n",
       "      <td>6.204837</td>\n",
       "    </tr>\n",
       "    <tr>\n",
       "      <th>min</th>\n",
       "      <td>648.000000</td>\n",
       "      <td>623.000000</td>\n",
       "      <td>1.000000</td>\n",
       "    </tr>\n",
       "    <tr>\n",
       "      <th>25%</th>\n",
       "      <td>1531.000000</td>\n",
       "      <td>1056.000000</td>\n",
       "      <td>6.000000</td>\n",
       "    </tr>\n",
       "    <tr>\n",
       "      <th>50%</th>\n",
       "      <td>1731.000000</td>\n",
       "      <td>1410.000000</td>\n",
       "      <td>9.000000</td>\n",
       "    </tr>\n",
       "    <tr>\n",
       "      <th>75%</th>\n",
       "      <td>2714.000000</td>\n",
       "      <td>1859.000000</td>\n",
       "      <td>14.000000</td>\n",
       "    </tr>\n",
       "    <tr>\n",
       "      <th>max</th>\n",
       "      <td>2808.000000</td>\n",
       "      <td>1946.000000</td>\n",
       "      <td>21.000000</td>\n",
       "    </tr>\n",
       "  </tbody>\n",
       "</table>\n",
       "</div>"
      ],
      "text/plain": [
       "          cpuUsage  memoryUsage  hourOfTheDay\n",
       "count     9.000000     9.000000      9.000000\n",
       "mean   1833.222222  1353.111111     10.000000\n",
       "std     791.592347   493.353688      6.204837\n",
       "min     648.000000   623.000000      1.000000\n",
       "25%    1531.000000  1056.000000      6.000000\n",
       "50%    1731.000000  1410.000000      9.000000\n",
       "75%    2714.000000  1859.000000     14.000000\n",
       "max    2808.000000  1946.000000     21.000000"
      ]
     },
     "execution_count": 86,
     "metadata": {},
     "output_type": "execute_result"
    }
   ],
   "source": [
    "df.describe()"
   ]
  },
  {
   "cell_type": "code",
   "execution_count": 87,
   "metadata": {
    "collapsed": true
   },
   "outputs": [],
   "source": [
    "import matplotlib.pyplot as plt\n",
    "plt.style.use('ggplot')\n",
    "%matplotlib inline"
   ]
  },
  {
   "cell_type": "code",
   "execution_count": 88,
   "metadata": {},
   "outputs": [
    {
     "data": {
      "text/plain": [
       "<matplotlib.axes._subplots.AxesSubplot at 0x12c04585588>"
      ]
     },
     "execution_count": 88,
     "metadata": {},
     "output_type": "execute_result"
    },
    {
     "data": {
      "image/png": "[encoded data removed]",
      "text/plain": [
       "<matplotlib.figure.Figure at 0x12c04592eb8>"
      ]
     },
     "metadata": {},
     "output_type": "display_data"
    }
   ],
   "source": [
    "# Distriubtion\n",
    "df.cpuUsage.hist(bins=40)\n",
    "df.memoryUsage.hist(bins=40)\n",
    "df.userName.value_counts().plot.barh()"
   ]
  },
  {
   "cell_type": "markdown",
   "metadata": {},
   "source": [
    "## Refine"
   ]
  },
  {
   "cell_type": "markdown",
   "metadata": {},
   "source": [
    "## Explore"
   ]
  },
  {
   "cell_type": "code",
   "execution_count": 79,
   "metadata": {
    "collapsed": true
   },
   "outputs": [],
   "source": [
    "plt.style.use('ggplot')"
   ]
  },
  {
   "cell_type": "code",
   "execution_count": 80,
   "metadata": {},
   "outputs": [
    {
     "data": {
      "text/plain": [
       "<matplotlib.axes._subplots.AxesSubplot at 0x12c04475b70>"
      ]
     },
     "execution_count": 80,
     "metadata": {},
     "output_type": "execute_result"
    },
    {
     "data": {
      "image/png": "[encoded data removed]",
      "text/plain": [
       "<matplotlib.figure.Figure at 0x12c0451d518>"
      ]
     },
     "metadata": {},
     "output_type": "display_data"
    }
   ],
   "source": [
    "df.plot.scatter(x= 'cpuUsage', y='memoryUsage')"
   ]
  },
  {
   "cell_type": "markdown",
   "metadata": {},
   "source": [
    "## Model"
   ]
  },
  {
   "cell_type": "markdown",
   "metadata": {},
   "source": [
    "Build a simple tree model"
   ]
  },
  {
   "cell_type": "code",
   "execution_count": 81,
   "metadata": {
    "collapsed": true
   },
   "outputs": [],
   "source": [
    "#Define feature and target\n",
    "features = df[['hourOfTheDay']]\n",
    "target = df['cpuUsage']"
   ]
  },
  {
   "cell_type": "code",
   "execution_count": 82,
   "metadata": {
    "collapsed": true
   },
   "outputs": [],
   "source": [
    "# Build a classifier\n",
    "clf = tree.DecisionTreeClassifier(max_depth=10).fit(features,target)"
   ]
  },
  {
   "cell_type": "markdown",
   "metadata": {},
   "source": [
    "## Build"
   ]
  },
  {
   "cell_type": "code",
   "execution_count": 85,
   "metadata": {},
   "outputs": [
    {
     "name": "stdout",
     "output_type": "stream",
     "text": [
      "[ 0.          0.00334448  0.         ...,  0.          0.          0.00334448]\n",
      "2515\n",
      "[ 0.          0.          0.         ...,  0.00116279  0.          0.0005814 ]\n",
      "2515\n"
     ]
    }
   ],
   "source": [
    "#Create a predict function\n",
    "def predict(hourOfTheDay):\n",
    "    features= [hourOfTheDay]\n",
    "    prob1 = model.predict_proba([features])[0]\n",
    "    return prob1\n",
    "ndarr = predict(4)\n",
    "print (ndarr)\n",
    "print (len(ndarr))\n",
    "\n",
    "ndarr = predict(16)\n",
    "print (ndarr)\n",
    "print (len(ndarr))\n"
   ]
  },
  {
   "cell_type": "code",
   "execution_count": 90,
   "metadata": {},
   "outputs": [
    {
     "name": "stdout",
     "output_type": "stream",
     "text": [
      "1347\n",
      "2271\n"
     ]
    }
   ],
   "source": [
    "#Create a predict function\n",
    "def predict2(hourOfTheDay):\n",
    "    features= [hourOfTheDay]\n",
    "    prob1 = model.predict([features])[0]\n",
    "    return prob1\n",
    "ndarr = predict2(4)\n",
    "print (ndarr)\n",
    "\n",
    "ndarr = predict2(16)\n",
    "print (ndarr)\n"
   ]
  },
  {
   "cell_type": "code",
   "execution_count": 91,
   "metadata": {},
   "outputs": [
    {
     "data": {
      "text/html": [
       "<div>\n",
       "<style>\n",
       "    .dataframe thead tr:only-child th {\n",
       "        text-align: right;\n",
       "    }\n",
       "\n",
       "    .dataframe thead th {\n",
       "        text-align: left;\n",
       "    }\n",
       "\n",
       "    .dataframe tbody tr th {\n",
       "        vertical-align: top;\n",
       "    }\n",
       "</style>\n",
       "<table border=\"1\" class=\"dataframe\">\n",
       "  <thead>\n",
       "    <tr style=\"text-align: right;\">\n",
       "      <th></th>\n",
       "      <th>cpuUsage</th>\n",
       "      <th>memoryUsage</th>\n",
       "      <th>userName</th>\n",
       "      <th>poolName</th>\n",
       "      <th>dayOfTheWeek</th>\n",
       "      <th>hourOfTheDay</th>\n",
       "    </tr>\n",
       "  </thead>\n",
       "  <tbody>\n",
       "    <tr>\n",
       "      <th>0</th>\n",
       "      <td>648</td>\n",
       "      <td>1410</td>\n",
       "      <td>Balrog</td>\n",
       "      <td>IndiaMarketing</td>\n",
       "      <td>Monday</td>\n",
       "      <td>16</td>\n",
       "    </tr>\n",
       "    <tr>\n",
       "      <th>1</th>\n",
       "      <td>1531</td>\n",
       "      <td>623</td>\n",
       "      <td>Gandalf</td>\n",
       "      <td>APACPreSales</td>\n",
       "      <td>Thursday</td>\n",
       "      <td>4</td>\n",
       "    </tr>\n",
       "    <tr>\n",
       "      <th>2</th>\n",
       "      <td>1687</td>\n",
       "      <td>1936</td>\n",
       "      <td>Frodo</td>\n",
       "      <td>IndiaMarketing</td>\n",
       "      <td>Tuesday</td>\n",
       "      <td>10</td>\n",
       "    </tr>\n",
       "    <tr>\n",
       "      <th>3</th>\n",
       "      <td>1731</td>\n",
       "      <td>1152</td>\n",
       "      <td>Samwise</td>\n",
       "      <td>APACPreSales</td>\n",
       "      <td>Wednesday</td>\n",
       "      <td>14</td>\n",
       "    </tr>\n",
       "    <tr>\n",
       "      <th>4</th>\n",
       "      <td>863</td>\n",
       "      <td>1859</td>\n",
       "      <td>Saruman</td>\n",
       "      <td>IndiaMarketing</td>\n",
       "      <td>Monday</td>\n",
       "      <td>6</td>\n",
       "    </tr>\n",
       "    <tr>\n",
       "      <th>5</th>\n",
       "      <td>2808</td>\n",
       "      <td>778</td>\n",
       "      <td>Bilbo</td>\n",
       "      <td>APACPreSales</td>\n",
       "      <td>Monday</td>\n",
       "      <td>1</td>\n",
       "    </tr>\n",
       "    <tr>\n",
       "      <th>6</th>\n",
       "      <td>2736</td>\n",
       "      <td>1946</td>\n",
       "      <td>Thorin</td>\n",
       "      <td>IndiaMarketing</td>\n",
       "      <td>Friday</td>\n",
       "      <td>21</td>\n",
       "    </tr>\n",
       "    <tr>\n",
       "      <th>7</th>\n",
       "      <td>2714</td>\n",
       "      <td>1418</td>\n",
       "      <td>Balin</td>\n",
       "      <td>APACPreSales</td>\n",
       "      <td>Monday</td>\n",
       "      <td>9</td>\n",
       "    </tr>\n",
       "    <tr>\n",
       "      <th>8</th>\n",
       "      <td>1781</td>\n",
       "      <td>1056</td>\n",
       "      <td>Balrog</td>\n",
       "      <td>IndiaMarketing</td>\n",
       "      <td>Thursday</td>\n",
       "      <td>9</td>\n",
       "    </tr>\n",
       "  </tbody>\n",
       "</table>\n",
       "</div>"
      ],
      "text/plain": [
       "   cpuUsage  memoryUsage userName        poolName dayOfTheWeek  hourOfTheDay\n",
       "0       648         1410   Balrog  IndiaMarketing       Monday            16\n",
       "1      1531          623  Gandalf    APACPreSales     Thursday             4\n",
       "2      1687         1936    Frodo  IndiaMarketing      Tuesday            10\n",
       "3      1731         1152  Samwise    APACPreSales    Wednesday            14\n",
       "4       863         1859  Saruman  IndiaMarketing       Monday             6\n",
       "5      2808          778    Bilbo    APACPreSales       Monday             1\n",
       "6      2736         1946   Thorin  IndiaMarketing       Friday            21\n",
       "7      2714         1418    Balin    APACPreSales       Monday             9\n",
       "8      1781         1056   Balrog  IndiaMarketing     Thursday             9"
      ]
     },
     "execution_count": 91,
     "metadata": {},
     "output_type": "execute_result"
    }
   ],
   "source": [
    "df"
   ]
  },
  {
   "cell_type": "code",
   "execution_count": null,
   "metadata": {
    "collapsed": true
   },
   "outputs": [],
   "source": []
  }
 ],
 "metadata": {
  "kernelspec": {
   "display_name": "Python 3",
   "language": "python",
   "name": "python3"
  },
  "language_info": {
   "codemirror_mode": {
    "name": "ipython",
    "version": 3
   },
   "file_extension": ".py",
   "mimetype": "text/x-python",
   "name": "python",
   "nbconvert_exporter": "python",
   "pygments_lexer": "ipython3",
   "version": "3.6.3"
  }
 },
 "nbformat": 4,
 "nbformat_minor": 2
}
